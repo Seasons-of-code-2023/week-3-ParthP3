{
 "cells": [
  {
   "cell_type": "code",
   "execution_count": 74,
   "metadata": {},
   "outputs": [],
   "source": [
    "import torch\n",
    "import torch.nn as nn\n",
    "import torch.nn.functional as F\n",
    "import torchvision\n",
    "from torchvision import datasets, models, transforms\n",
    "import numpy as np\n",
    "from torch.optim import lr_scheduler\n",
    "import matplotlib.pyplot as plt\n",
    "import os\n",
    "import time\n",
    "import copy\n",
    "import idx2numpy"
   ]
  },
  {
   "cell_type": "code",
   "execution_count": 75,
   "metadata": {},
   "outputs": [],
   "source": [
    "device = torch.device('cuda' if torch.cuda.is_available() else 'cpu')"
   ]
  },
  {
   "cell_type": "code",
   "execution_count": 76,
   "metadata": {},
   "outputs": [],
   "source": [
    "transform = transforms.Compose([transforms.Resize(28),\n",
    "                                transforms.CenterCrop(28),\n",
    "                                transforms.RandomHorizontalFlip(0.5),\n",
    "                                transforms.ToTensor(),\n",
    "                                transforms.Normalize(0.5, 0.5)])"
   ]
  },
  {
   "cell_type": "code",
   "execution_count": 77,
   "metadata": {},
   "outputs": [],
   "source": [
    "image_set = torchvision.datasets.FashionMNIST('./FashionMNIST', download = True, transform=transforms.ToTensor())"
   ]
  },
  {
   "cell_type": "code",
   "execution_count": 78,
   "metadata": {},
   "outputs": [],
   "source": [
    "test_set = torchvision.datasets.FashionMNIST('./FashionMNIST', download = True, train = False, transform=transforms.ToTensor())"
   ]
  },
  {
   "cell_type": "code",
   "execution_count": 79,
   "metadata": {},
   "outputs": [],
   "source": [
    "train_loader = torch.utils.data.DataLoader(dataset=image_set, batch_size = 32, shuffle = True)\n",
    "test_loader = torch.utils.data.DataLoader(dataset=test_set, batch_size = 32, shuffle = False)"
   ]
  },
  {
   "cell_type": "code",
   "execution_count": 105,
   "metadata": {},
   "outputs": [
    {
     "name": "stdout",
     "output_type": "stream",
     "text": [
      "torch.Size([1, 28, 28])\n"
     ]
    }
   ],
   "source": [
    "print(image_set[0][0].shape)"
   ]
  },
  {
   "cell_type": "code",
   "execution_count": 100,
   "metadata": {},
   "outputs": [],
   "source": [
    "num_epochs = 100\n",
    "batch_size = 32\n",
    "learning_rate = 0.1"
   ]
  },
  {
   "cell_type": "code",
   "execution_count": 246,
   "metadata": {},
   "outputs": [],
   "source": [
    "class DownSamp(nn.Module):\n",
    "    def __init__(self, input_channels, output_channels):\n",
    "        super(DownSamp, self).__init__()\n",
    "        self.conv1 = nn.Conv2d(input_channels, output_channels//2, 3, 2, 2)\n",
    "        self.bn1 = nn.BatchNorm2d(output_channels//2, eps=1e-4)\n",
    "        self.pool = nn.MaxPool2d(2, 2)\n",
    "        self.conv2 = nn.Conv2d(output_channels//2, output_channels, 3, 1, 1)\n",
    "        self.bn2 = nn.BatchNorm2d(output_channels, eps=1e-4)\n",
    "        self.elu = nn.ELU()\n",
    "\n",
    "    def forward(self, x):\n",
    "        x = self.elu(self.bn2(self.conv2(self.bn1(self.conv1(x)))))\n",
    "        return x\n",
    "\n",
    "class UpSamp(nn.Module):\n",
    "    def __init__(self, input_channels, output_channels, scale=2):\n",
    "        super(UpSamp, self).__init__()\n",
    "        self.conv1 = nn.Conv2d(input_channels, output_channels//2, 3, 1, 1)\n",
    "        self.bn1 = nn.BatchNorm2d(output_channels//2, eps=1e-4)\n",
    "        self.conv2 = nn.Conv2d(output_channels//2, output_channels, 3, 1, 1)\n",
    "        self.bn2 = nn.BatchNorm2d(output_channels, eps=1e-4)\n",
    "        self.up_sample = nn.Upsample(scale_factor=scale, mode = \"nearest\")\n",
    "        self.elu = nn.ELU()\n",
    "    \n",
    "    def forward(self, x):\n",
    "        x = self.elu(self.up_sample(self.bn2(self.conv2(self.bn1(self.conv1(x))))))\n",
    "        return x"
   ]
  },
  {
   "cell_type": "code",
   "execution_count": 247,
   "metadata": {},
   "outputs": [],
   "source": [
    "class Encoder(nn.Module):\n",
    "    def __init__(self, input_channels, ch = 64, latent_channels = 256):\n",
    "        super(Encoder, self).__init__()\n",
    "        self.conv1 = nn.Conv2d(input_channels, ch, kernel_size=5, stride=1, padding=2)\n",
    "        self.res_down1 = DownSamp(ch, ch*2)\n",
    "        self.res_down2 = DownSamp(ch*2, ch*4)\n",
    "        self.res_down3 = DownSamp(ch*4, ch*8)\n",
    "        self.mu = nn.Conv2d(ch*8, latent_channels, 5, 1)\n",
    "        self.log_var = nn.Conv2d(ch*8, latent_channels, 5, 1)\n",
    "        self.act = nn.ELU()\n",
    "    \n",
    "    def sample(self, mu, log_var):\n",
    "        std = torch.exp(log_var)\n",
    "        epsilon = torch.randn_like(std)\n",
    "        return mu + std*epsilon\n",
    "\n",
    "    def forward(self, x):\n",
    "        x = self.act(self.conv1(x))\n",
    "        x = self.res_down1(x)\n",
    "        x = self.res_down2(x)\n",
    "        x = self.res_down3(x)\n",
    "        mu = self.mu(x)\n",
    "        log_var = self.log_var(x)\n",
    "\n",
    "        if self.training:\n",
    "            x = self.sample(mu, log_var)\n",
    "        else:\n",
    "            x = mu\n",
    "        return x, mu, log_var"
   ]
  },
  {
   "cell_type": "code",
   "execution_count": 263,
   "metadata": {},
   "outputs": [],
   "source": [
    "class Decoder(nn.Module):\n",
    "    def __init__(self, channels, ch = 64, latent_channels = 256):\n",
    "        super(Decoder, self).__init__()\n",
    "        self.conv_up = nn.ConvTranspose2d(latent_channels, ch*8, 4, 1, 1)\n",
    "        self.res_up1 = UpSamp(ch*8, ch*4)\n",
    "        self.res_up2 = UpSamp(ch*4, ch*2)\n",
    "        self.res_up3 = UpSamp(ch*2, ch)\n",
    "        self.conv2 = nn.Conv2d(ch, channels, 3, 1, 3)\n",
    "        self.act = nn.ELU()\n",
    "    \n",
    "    def forward(self, x):\n",
    "        x = self.act(self.conv_up(x)) \n",
    "        x = self.res_up1(x)\n",
    "        x = self.res_up2(x)\n",
    "        x = self.res_up3(x)\n",
    "        x = torch.tanh(self.conv2(x))\n",
    "        return x "
   ]
  },
  {
   "cell_type": "code",
   "execution_count": 264,
   "metadata": {},
   "outputs": [],
   "source": [
    "class VarAutoEnc(nn.Module):\n",
    "    def __init__(self, input_channels = 1, ch = 64, latent_channels = 256):\n",
    "        super(VarAutoEnc, self).__init__()\n",
    "        self.encoder = Encoder(input_channels, ch, latent_channels)\n",
    "        self.decoder = Decoder(input_channels, ch, latent_channels)\n",
    "\n",
    "    def forward(self, x):\n",
    "        encoded, mu, log_var = self.encoder(x)\n",
    "        img = self.decoder(encoded)\n",
    "        return img, mu, log_var"
   ]
  },
  {
   "cell_type": "code",
   "execution_count": 265,
   "metadata": {},
   "outputs": [],
   "source": [
    "def KL_Divergence(mu, log_var):\n",
    "    return 0.5*len(mu)*(1 + log_var - mu.pow(2) - log_var.exp()).mean()"
   ]
  },
  {
   "cell_type": "code",
   "execution_count": 266,
   "metadata": {},
   "outputs": [],
   "source": [
    "model = VarAutoEnc(input_channels = 1, ch = 64, latent_channels = 256).to(device)\n",
    "optimizer = torch.optim.SGD(model.parameters(), lr = learning_rate)\n",
    "scalar = torch.cuda.amp.GradScaler()"
   ]
  },
  {
   "cell_type": "code",
   "execution_count": 267,
   "metadata": {},
   "outputs": [
    {
     "name": "stdout",
     "output_type": "stream",
     "text": [
      "Epoch 1/100\n",
      "----------\n",
      "torch.Size([32, 1, 28, 28])\n",
      "torch.Size([32, 256, 2, 2])\n",
      "torch.Size([32, 512, 3, 3])\n",
      "torch.Size([32, 256, 6, 6])\n",
      "torch.Size([32, 128, 12, 12])\n",
      "torch.Size([32, 64, 24, 24])\n",
      "torch.Size([32, 1, 28, 28])\n",
      "torch.Size([32, 1, 28, 28])\n",
      "torch.Size([32, 256, 2, 2])\n",
      "torch.Size([32, 512, 3, 3])\n",
      "torch.Size([32, 256, 6, 6])\n",
      "torch.Size([32, 128, 12, 12])\n",
      "torch.Size([32, 64, 24, 24])\n",
      "torch.Size([32, 1, 28, 28])\n",
      "torch.Size([32, 1, 28, 28])\n",
      "torch.Size([32, 256, 2, 2])\n",
      "torch.Size([32, 512, 3, 3])\n",
      "torch.Size([32, 256, 6, 6])\n",
      "torch.Size([32, 128, 12, 12])\n",
      "torch.Size([32, 64, 24, 24])\n",
      "torch.Size([32, 1, 28, 28])\n",
      "torch.Size([32, 1, 28, 28])\n",
      "torch.Size([32, 256, 2, 2])\n",
      "torch.Size([32, 512, 3, 3])\n",
      "torch.Size([32, 256, 6, 6])\n",
      "torch.Size([32, 128, 12, 12])\n",
      "torch.Size([32, 64, 24, 24])\n",
      "torch.Size([32, 1, 28, 28])\n",
      "torch.Size([32, 1, 28, 28])\n",
      "torch.Size([32, 256, 2, 2])\n",
      "torch.Size([32, 512, 3, 3])\n",
      "torch.Size([32, 256, 6, 6])\n",
      "torch.Size([32, 128, 12, 12])\n",
      "torch.Size([32, 64, 24, 24])\n",
      "torch.Size([32, 1, 28, 28])\n",
      "torch.Size([32, 1, 28, 28])\n",
      "torch.Size([32, 256, 2, 2])\n",
      "torch.Size([32, 512, 3, 3])\n",
      "torch.Size([32, 256, 6, 6])\n",
      "torch.Size([32, 128, 12, 12])\n",
      "torch.Size([32, 64, 24, 24])\n",
      "torch.Size([32, 1, 28, 28])\n",
      "torch.Size([32, 1, 28, 28])\n",
      "torch.Size([32, 256, 2, 2])\n",
      "torch.Size([32, 512, 3, 3])\n",
      "torch.Size([32, 256, 6, 6])\n",
      "torch.Size([32, 128, 12, 12])\n",
      "torch.Size([32, 64, 24, 24])\n",
      "torch.Size([32, 1, 28, 28])\n",
      "torch.Size([32, 1, 28, 28])\n",
      "torch.Size([32, 256, 2, 2])\n",
      "torch.Size([32, 512, 3, 3])\n",
      "torch.Size([32, 256, 6, 6])\n",
      "torch.Size([32, 128, 12, 12])\n",
      "torch.Size([32, 64, 24, 24])\n",
      "torch.Size([32, 1, 28, 28])\n",
      "torch.Size([32, 1, 28, 28])\n",
      "torch.Size([32, 256, 2, 2])\n",
      "torch.Size([32, 512, 3, 3])\n",
      "torch.Size([32, 256, 6, 6])\n",
      "torch.Size([32, 128, 12, 12])\n",
      "torch.Size([32, 64, 24, 24])\n",
      "torch.Size([32, 1, 28, 28])\n",
      "torch.Size([32, 1, 28, 28])\n",
      "torch.Size([32, 256, 2, 2])\n",
      "torch.Size([32, 512, 3, 3])\n",
      "torch.Size([32, 256, 6, 6])\n",
      "torch.Size([32, 128, 12, 12])\n",
      "torch.Size([32, 64, 24, 24])\n",
      "torch.Size([32, 1, 28, 28])\n"
     ]
    },
    {
     "ename": "KeyboardInterrupt",
     "evalue": "",
     "output_type": "error",
     "traceback": [
      "\u001b[0;31m---------------------------------------------------------------------------\u001b[0m",
      "\u001b[0;31mKeyboardInterrupt\u001b[0m                         Traceback (most recent call last)",
      "Cell \u001b[0;32mIn[267], line 18\u001b[0m\n\u001b[1;32m     16\u001b[0m     running_loss \u001b[39m=\u001b[39m loss\n\u001b[1;32m     17\u001b[0m     optimizer\u001b[39m.\u001b[39mzero_grad()\n\u001b[0;32m---> 18\u001b[0m     loss\u001b[39m.\u001b[39;49mbackward()\n\u001b[1;32m     19\u001b[0m     optimizer\u001b[39m.\u001b[39mstep()\n\u001b[1;32m     20\u001b[0m \u001b[39mprint\u001b[39m(\u001b[39mf\u001b[39m\u001b[39m\"\u001b[39m\u001b[39mLoss = \u001b[39m\u001b[39m{\u001b[39;00mrunning_loss\u001b[39m}\u001b[39;00m\u001b[39m\"\u001b[39m)\n",
      "File \u001b[0;32m~/stable_diffusion/lib/python3.8/site-packages/torch/_tensor.py:487\u001b[0m, in \u001b[0;36mTensor.backward\u001b[0;34m(self, gradient, retain_graph, create_graph, inputs)\u001b[0m\n\u001b[1;32m    477\u001b[0m \u001b[39mif\u001b[39;00m has_torch_function_unary(\u001b[39mself\u001b[39m):\n\u001b[1;32m    478\u001b[0m     \u001b[39mreturn\u001b[39;00m handle_torch_function(\n\u001b[1;32m    479\u001b[0m         Tensor\u001b[39m.\u001b[39mbackward,\n\u001b[1;32m    480\u001b[0m         (\u001b[39mself\u001b[39m,),\n\u001b[0;32m   (...)\u001b[0m\n\u001b[1;32m    485\u001b[0m         inputs\u001b[39m=\u001b[39minputs,\n\u001b[1;32m    486\u001b[0m     )\n\u001b[0;32m--> 487\u001b[0m torch\u001b[39m.\u001b[39;49mautograd\u001b[39m.\u001b[39;49mbackward(\n\u001b[1;32m    488\u001b[0m     \u001b[39mself\u001b[39;49m, gradient, retain_graph, create_graph, inputs\u001b[39m=\u001b[39;49minputs\n\u001b[1;32m    489\u001b[0m )\n",
      "File \u001b[0;32m~/stable_diffusion/lib/python3.8/site-packages/torch/autograd/__init__.py:200\u001b[0m, in \u001b[0;36mbackward\u001b[0;34m(tensors, grad_tensors, retain_graph, create_graph, grad_variables, inputs)\u001b[0m\n\u001b[1;32m    195\u001b[0m     retain_graph \u001b[39m=\u001b[39m create_graph\n\u001b[1;32m    197\u001b[0m \u001b[39m# The reason we repeat same the comment below is that\u001b[39;00m\n\u001b[1;32m    198\u001b[0m \u001b[39m# some Python versions print out the first line of a multi-line function\u001b[39;00m\n\u001b[1;32m    199\u001b[0m \u001b[39m# calls in the traceback and some print out the last line\u001b[39;00m\n\u001b[0;32m--> 200\u001b[0m Variable\u001b[39m.\u001b[39;49m_execution_engine\u001b[39m.\u001b[39;49mrun_backward(  \u001b[39m# Calls into the C++ engine to run the backward pass\u001b[39;49;00m\n\u001b[1;32m    201\u001b[0m     tensors, grad_tensors_, retain_graph, create_graph, inputs,\n\u001b[1;32m    202\u001b[0m     allow_unreachable\u001b[39m=\u001b[39;49m\u001b[39mTrue\u001b[39;49;00m, accumulate_grad\u001b[39m=\u001b[39;49m\u001b[39mTrue\u001b[39;49;00m)\n",
      "\u001b[0;31mKeyboardInterrupt\u001b[0m: "
     ]
    }
   ],
   "source": [
    "torch.save(model.state_dict(), \"vae1.pt\")\n",
    "since = time.time()\n",
    "best_acc = 0.0\n",
    "for epoch in range(num_epochs):\n",
    "    print(f'Epoch {epoch+1}/{num_epochs}')\n",
    "    print('-'*10)\n",
    "    model.train()\n",
    "    running_loss = 0.0\n",
    "    for inputs, labels in train_loader:\n",
    "        inputs = inputs.to(device)\n",
    "        labels = labels.to(device)\n",
    "        recon_imgs, mu, log_var = model(inputs)\n",
    "        kl_loss = KL_Divergence(mu, log_var)\n",
    "        mse_loss = F.mse_loss(recon_imgs, inputs)\n",
    "        loss =  kl_loss + mse_loss\n",
    "        running_loss = loss\n",
    "        optimizer.zero_grad()\n",
    "        loss.backward()\n",
    "        optimizer.step()\n",
    "    print(f\"Loss = {running_loss}\")\n",
    "torch.save(model.state_dict(), \"vae100.pt\")\n",
    "\n",
    "\n",
    "time_elapsed = time.time() - since\n",
    "print(f'Training complete in {time_elapsed//60:.0f}m {time_elapsed%60:.0f}s')"
   ]
  }
 ],
 "metadata": {
  "kernelspec": {
   "display_name": "stable_diffusion",
   "language": "python",
   "name": "python3"
  },
  "language_info": {
   "codemirror_mode": {
    "name": "ipython",
    "version": 3
   },
   "file_extension": ".py",
   "mimetype": "text/x-python",
   "name": "python",
   "nbconvert_exporter": "python",
   "pygments_lexer": "ipython3",
   "version": "3.8.10"
  },
  "orig_nbformat": 4,
  "vscode": {
   "interpreter": {
    "hash": "bb8dacb5d729c90b64a22833e23da691fcda3a7816a64354e9e50f9f5b4911c7"
   }
  }
 },
 "nbformat": 4,
 "nbformat_minor": 2
}
